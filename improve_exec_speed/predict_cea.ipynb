{
 "cells": [
  {
   "cell_type": "markdown",
   "metadata": {},
   "source": [
    "# Treinamento de Algoritmos para Subistituir o RocketCEA\n",
    "O grande problema do RocketCEA é o seu tempo de execução. Para isso, este notebook propõe o treinamento de algoritmos de regressão para predição de valores calculados pelo CEA"
   ]
  },
  {
   "cell_type": "code",
   "execution_count": 16,
   "metadata": {},
   "outputs": [],
   "source": [
    "# Importação de pacotes\n",
    "\n",
    "from rocketcea.cea_obj_w_units import CEA_Obj\n",
    "from proptools import nozzle  \n",
    "import numpy as np\n",
    "from itertools import product\n",
    "\n",
    "from sklearn.model_selection import train_test_split\n",
    "from sklearn.linear_model import LinearRegression\n",
    "\n",
    "from sklearn.neural_network import MLPRegressor\n",
    "from sklearn.datasets import make_regression\n",
    "from sklearn.ensemble import RandomForestRegressor\n",
    "from sklearn.tree import DecisionTreeRegressor\n",
    "import os\n",
    "import multiprocessing\n",
    "import pandas as pd\n",
    "\n",
    "from cea_function import calculate_cea_outputs\n",
    "\n",
    "import joblib\n",
    "import matplotlib.pyplot as plt\n",
    "\n"
   ]
  },
  {
   "cell_type": "markdown",
   "metadata": {},
   "source": [
    "## Intervalo de operação dos atributos\n",
    "\n",
    "- P_c (Pressure Chamber): 1e6 a 30e6;\n",
    "- MR (Mixture Ratio): 1 a 9;\n",
    "- eps (Expansion Ratio): 2 a 200."
   ]
  },
  {
   "cell_type": "code",
   "execution_count": 17,
   "metadata": {},
   "outputs": [
    {
     "data": {
      "text/plain": [
       "(27000, 3)"
      ]
     },
     "execution_count": 17,
     "metadata": {},
     "output_type": "execute_result"
    }
   ],
   "source": [
    "def grid_search(N, grid_resolution):\n",
    "    #N = 10  # Number of parameters\n",
    "    #grid_resolution = 3  # Granularity of the grid\n",
    "\n",
    "    param_ranges = [np.linspace(0, 1, grid_resolution) for _ in range(N)]\n",
    "    grid_points = np.array(list(product(*param_ranges)))\n",
    "\n",
    "    return grid_points\n",
    "\n",
    "\n",
    "grid_points = grid_search(N=3, grid_resolution=30)\n",
    "grid_points.shape   "
   ]
  },
  {
   "cell_type": "code",
   "execution_count": 3,
   "metadata": {},
   "outputs": [],
   "source": [
    "# Processamento paralelo\n",
    "bound_values = np.array([[1e6, 30e6], [1, 9], [2, 200]])\n",
    "\n",
    "def calculate_cea_params_single(params):\n",
    "    oxName='LOX'\n",
    "    fuelName='RP-1'\n",
    "    ceaObj = CEA_Obj( oxName=oxName, fuelName=fuelName, pressure_units='MPa', cstar_units='m/s', temperature_units='K')\n",
    "\n",
    "    #min_mat = bound_values.T[0, :]\n",
    "    #max_mat = bound_values.T[1,:]\n",
    "    #denorm_values = params * (max_mat - min_mat) + min_mat\n",
    "    \n",
    "    #IspVac, Cstar, Tc, mw, gamma = ceaObj.get_IvacCstrTc_ChmMwGam(Pc=params[0], MR=params[1], eps=params[2])\n",
    "    #valores_calculados = [IspVac, Cstar, Tc, gamma]\n",
    "    valores_calculados = params\n",
    "    print(params)\n",
    "    return valores_calculados\n",
    "\n",
    "\n",
    "def calc_fitness(params_matrix, bound_values, fitness_func, parallel=True):\n",
    "    min_mat = bound_values.T[0, :]\n",
    "    max_mat = bound_values.T[1,:]\n",
    "    denorm_matrix = params_matrix * (max_mat - min_mat) + min_mat\n",
    "\n",
    "    if parallel:\n",
    "        num_workers = os.cpu_count()\n",
    "    else:\n",
    "        num_workers = 1\n",
    "\n",
    "    pool = multiprocessing.Pool(processes=num_workers)\n",
    "    results = pool.map(fitness_func, denorm_matrix)\n",
    "    pool.close()\n",
    "    pool.join()\n",
    "    results = np.array(results)\n",
    "    #print(denorm_matrix)\n",
    "\n",
    "    return results\n",
    "\n",
    "\n",
    "\n",
    "class CalculaCEA():\n",
    "    def __init__(self, bound_values, parallel=True):\n",
    "        self.bound_values = bound_values\n",
    "\n",
    "        self.min_mat = bound_values.T[0, :]\n",
    "        self.max_mat = bound_values.T[1,:]\n",
    "\n",
    "        if parallel:\n",
    "            self.num_workers = os.cpu_count()\n",
    "        else:\n",
    "            self.num_workers = 1\n",
    "\n",
    "\n",
    "    def calculate_cea_single(self, params):\n",
    "        oxName='LOX'\n",
    "        fuelName='RP-1'\n",
    "        self.ceaObj = CEA_Obj( oxName=oxName, fuelName=fuelName, pressure_units='MPa', cstar_units='m/s', temperature_units='K')\n",
    "        IspVac, Cstar, Tc, mw, gamma = self.ceaObj.get_IvacCstrTc_ChmMwGam(Pc=params[0], MR=params[1], eps=params[2])\n",
    "\n",
    "        valores_calculados = [IspVac, Cstar, Tc, mw, gamma]\n",
    "        return valores_calculados\n",
    "\n",
    "    \n",
    "    def calc_fitness(self, params_matrix):\n",
    "        denorm_matrix = params_matrix * (self.max_mat - self.min_mat) + self.min_mat\n",
    "        pool = multiprocessing.Pool(processes=self.num_workers)\n",
    "        results = pool.map(calculate_cea_outputs, denorm_matrix)\n",
    "        pool.close()\n",
    "        pool.join()\n",
    "        results = np.array(results)\n",
    "        return results\n",
    "\n",
    "\n",
    "\n",
    "cea_fitness = CalculaCEA(bound_values, parallel=True)\n",
    "#y = calc_fitness(grid_points, bound_values, calculate_cea_params_single, parallel=True)\n",
    "y = cea_fitness.calc_fitness(grid_points)"
   ]
  },
  {
   "cell_type": "code",
   "execution_count": 4,
   "metadata": {},
   "outputs": [
    {
     "data": {
      "text/plain": [
       "array([[1.61337298e+02, 1.86441717e+02, 1.23094942e+03, 4.22234735e+01,\n",
       "        2.61820282e+03, 8.80964731e-01],\n",
       "       [1.63474233e+02, 2.13683072e+02, 1.23094942e+03, 4.22234735e+01,\n",
       "        2.61820282e+03, 8.80964731e-01],\n",
       "       [1.52173751e+02, 2.27487009e+02, 1.23094942e+03, 4.22234735e+01,\n",
       "        2.61820282e+03, 8.80964731e-01],\n",
       "       ...,\n",
       "       [2.24782489e+02, 2.79561155e+02, 1.38762554e+03, 3.25401168e+01,\n",
       "        3.01099485e+03, 1.10225318e+00],\n",
       "       [2.28255040e+02, 2.79627100e+02, 1.38762554e+03, 3.25401168e+01,\n",
       "        3.01099485e+03, 1.10225318e+00],\n",
       "       [2.28264994e+02, 2.79692165e+02, 1.38762554e+03, 3.25401168e+01,\n",
       "        3.01099485e+03, 1.10225318e+00]])"
      ]
     },
     "execution_count": 4,
     "metadata": {},
     "output_type": "execute_result"
    }
   ],
   "source": [
    "y"
   ]
  },
  {
   "cell_type": "code",
   "execution_count": 5,
   "metadata": {},
   "outputs": [],
   "source": [
    "df_grid_points = pd.DataFrame(grid_points, columns=['P_c', 'MR', 'eps'])\n",
    "df_target = pd.DataFrame(y, columns=['IspSea','IspVac','Cstar', 'Tc', 'mw', 'gamma', ])\n",
    "df_grid_target = pd.concat([df_grid_points, df_target], axis=1)\n",
    "df_grid_target.to_csv('grid_target.csv', index=False)\n"
   ]
  },
  {
   "cell_type": "code",
   "execution_count": 8,
   "metadata": {},
   "outputs": [],
   "source": []
  },
  {
   "cell_type": "code",
   "execution_count": 6,
   "metadata": {},
   "outputs": [],
   "source": [
    "# Le o arquivo carregado com o grid e o target\n",
    "df_grid_target = pd.read_csv('grid_target.csv')\n",
    "\n",
    "# Processa e converte para numpy\n",
    "X_y = df_grid_target.to_numpy()\n",
    "X = X_y[:,0:3]\n",
    "y = X_y[:,3:]\n",
    "\n",
    "# Deleta o dataframe para liberar espaco na RAM\n",
    "del df_grid_target"
   ]
  },
  {
   "cell_type": "code",
   "execution_count": 7,
   "metadata": {},
   "outputs": [],
   "source": [
    "# Separa dos dados em treino, validação e teste\n",
    "X_train, X_val_test, y_train, y_val_test = train_test_split(X, y, test_size=0.2, random_state=42)\n",
    "X_val, X_test, y_val, y_test = train_test_split(X_val_test, y_val_test, test_size=0.5, random_state=0)"
   ]
  },
  {
   "cell_type": "markdown",
   "metadata": {},
   "source": [
    "# Regressão Linear"
   ]
  },
  {
   "cell_type": "code",
   "execution_count": 16,
   "metadata": {},
   "outputs": [
    {
     "data": {
      "text/plain": [
       "0.36824962413240636"
      ]
     },
     "execution_count": 16,
     "metadata": {},
     "output_type": "execute_result"
    }
   ],
   "source": [
    "reg = LinearRegression().fit(X_train, y_train)\n",
    "pred = reg.predict(X_test)\n",
    "reg.score(X_test, y_test)\n"
   ]
  },
  {
   "cell_type": "code",
   "execution_count": 17,
   "metadata": {},
   "outputs": [
    {
     "name": "stdout",
     "output_type": "stream",
     "text": [
      "227.38585781246243 260.11616122208034\n",
      "249.29631929573674 269.25776795616883\n",
      "221.7940362152894 255.2759537871661\n",
      "241.11579707456806 268.4571309742733\n",
      "287.9705010918276 281.2518575195008\n",
      "222.37866198411294 229.11064501790196\n",
      "234.7693931873497 265.04686285478385\n",
      "226.207850505418 235.87251101014888\n",
      "254.10374516561197 240.1425011501275\n",
      "256.0760450980834 292.54623529375294\n"
     ]
    }
   ],
   "source": [
    "for i in range(10):\n",
    "    print(pred[i][0], y_test[i][0])"
   ]
  },
  {
   "cell_type": "markdown",
   "metadata": {},
   "source": [
    "# MLP"
   ]
  },
  {
   "cell_type": "code",
   "execution_count": 124,
   "metadata": {},
   "outputs": [
    {
     "name": "stderr",
     "output_type": "stream",
     "text": [
      "/opt/homebrew/anaconda3/envs/deeplearning/lib/python3.9/site-packages/sklearn/neural_network/_multilayer_perceptron.py:692: ConvergenceWarning: Stochastic Optimizer: Maximum iterations (500) reached and the optimization hasn't converged yet.\n",
      "  warnings.warn(\n"
     ]
    }
   ],
   "source": [
    "regr = MLPRegressor(random_state=1, \n",
    "                    max_iter=1000,\n",
    "                    hidden_layer_sizes=(256,) \n",
    "                    ).fit(X_train, y_train)"
   ]
  },
  {
   "cell_type": "code",
   "execution_count": 126,
   "metadata": {},
   "outputs": [
    {
     "data": {
      "text/plain": [
       "0.9625170772180227"
      ]
     },
     "execution_count": 126,
     "metadata": {},
     "output_type": "execute_result"
    }
   ],
   "source": [
    "pred = regr.predict(X_test)\n",
    "regr.score(X_test, y_test)\n"
   ]
  },
  {
   "cell_type": "code",
   "execution_count": 127,
   "metadata": {},
   "outputs": [
    {
     "name": "stdout",
     "output_type": "stream",
     "text": [
      "361.2134073948461 354.67898701087415\n",
      "395.46987001951385 391.9493564111563\n",
      "335.58194175658605 341.22386541453875\n",
      "271.24388191947713 274.2840269077994\n",
      "354.8419259371778 344.26409197079647\n",
      "338.49627196864407 334.1771512879666\n",
      "333.5691309815153 331.7665612415897\n",
      "337.4862391179062 331.70429568246385\n",
      "301.22382744235034 301.3335244947692\n",
      "286.7441482525414 277.2463072131506\n",
      "352.60754340120394 354.54763150793275\n",
      "313.5247257551567 312.88618961940887\n",
      "349.4336376360856 346.7379025088469\n",
      "332.8563507904534 327.8366164319221\n",
      "391.16864550974526 389.27560552234524\n",
      "294.51626031841505 289.04610051648524\n",
      "313.44782035669505 314.6381659765613\n",
      "276.2392448005391 283.6709941799367\n",
      "374.8724389257979 367.900631538755\n",
      "395.05979035022335 387.4002962851506\n"
     ]
    }
   ],
   "source": [
    "for i in range(20):\n",
    "    print(pred[i][0], y_test[i][0])"
   ]
  },
  {
   "cell_type": "code",
   "execution_count": 130,
   "metadata": {},
   "outputs": [
    {
     "name": "stdout",
     "output_type": "stream",
     "text": [
      "Execution time: 1.5532879829406738\n"
     ]
    }
   ],
   "source": [
    "import time\n",
    "\n",
    "start_time = time.time()\n",
    "\n",
    "for i in range(10000):\n",
    "    time.sleep(1/10000)\n",
    "    regr.predict(X_test[0:1])\n",
    "\n",
    "end_time = time.time()\n",
    "execution_time =  end_time - start_time\n",
    "print(\"Execution time:\",execution_time)\n"
   ]
  },
  {
   "cell_type": "markdown",
   "metadata": {},
   "source": [
    "# Random Forest Regression"
   ]
  },
  {
   "cell_type": "code",
   "execution_count": 136,
   "metadata": {},
   "outputs": [
    {
     "data": {
      "text/plain": [
       "RandomForestRegressor(max_depth=100, random_state=0)"
      ]
     },
     "execution_count": 136,
     "metadata": {},
     "output_type": "execute_result"
    }
   ],
   "source": [
    "reg_forest = RandomForestRegressor(max_depth=100, random_state=0)\n",
    "reg_forest.fit(X_train, y_train)"
   ]
  },
  {
   "cell_type": "code",
   "execution_count": 137,
   "metadata": {},
   "outputs": [
    {
     "data": {
      "text/plain": [
       "0.9992907412722483"
      ]
     },
     "execution_count": 137,
     "metadata": {},
     "output_type": "execute_result"
    }
   ],
   "source": [
    "pred = reg_forest.predict(X_test)\n",
    "reg_forest.score(X_test, y_test)\n"
   ]
  },
  {
   "cell_type": "code",
   "execution_count": 138,
   "metadata": {},
   "outputs": [
    {
     "name": "stdout",
     "output_type": "stream",
     "text": [
      "354.7267981601076 354.67898701087415\n",
      "391.4950448443861 391.9493564111563\n",
      "341.04457459140787 341.22386541453875\n",
      "274.2136578167049 274.2840269077994\n",
      "344.1644003918606 344.26409197079647\n",
      "333.7144138915461 334.1771512879666\n",
      "331.6685933981436 331.7665612415897\n",
      "331.4333924700347 331.70429568246385\n",
      "300.95183796535963 301.3335244947692\n",
      "277.6112833032955 277.2463072131506\n",
      "354.55933323153397 354.54763150793275\n",
      "312.6985969650189 312.88618961940887\n",
      "346.5371755332889 346.7379025088469\n",
      "328.062021675771 327.8366164319221\n",
      "388.93769138452785 389.27560552234524\n",
      "288.95857673287594 289.04610051648524\n",
      "314.79187604142163 314.6381659765613\n",
      "283.1144836044798 283.6709941799367\n",
      "367.9804160691997 367.900631538755\n",
      "387.8011496659244 387.4002962851506\n"
     ]
    }
   ],
   "source": [
    "for i in range(20):\n",
    "    print(pred[i][0], y_test[i][0])"
   ]
  },
  {
   "cell_type": "code",
   "execution_count": 139,
   "metadata": {},
   "outputs": [
    {
     "name": "stdout",
     "output_type": "stream",
     "text": [
      "Execution time: 19.11455488204956\n"
     ]
    }
   ],
   "source": [
    "import time\n",
    "\n",
    "start_time = time.time()\n",
    "\n",
    "for i in range(10000):\n",
    "    #time.sleep(1/10000)\n",
    "    reg_forest.predict(X_test[0:1])\n",
    "\n",
    "end_time = time.time()\n",
    "execution_time =  end_time - start_time\n",
    "print(\"Execution time:\",execution_time)\n"
   ]
  },
  {
   "cell_type": "markdown",
   "metadata": {},
   "source": [
    "# Decision Tree Regression"
   ]
  },
  {
   "cell_type": "code",
   "execution_count": 8,
   "metadata": {},
   "outputs": [
    {
     "data": {
      "text/plain": [
       "DecisionTreeRegressor(max_depth=1000)"
      ]
     },
     "execution_count": 8,
     "metadata": {},
     "output_type": "execute_result"
    }
   ],
   "source": [
    "reg_tree = DecisionTreeRegressor(max_depth=1000)\n",
    "reg_tree.fit(X_train, y_train)\n"
   ]
  },
  {
   "cell_type": "code",
   "execution_count": 9,
   "metadata": {},
   "outputs": [
    {
     "data": {
      "text/plain": [
       "0.9988825161236132"
      ]
     },
     "execution_count": 9,
     "metadata": {},
     "output_type": "execute_result"
    }
   ],
   "source": [
    "pred = reg_tree.predict(X_test)\n",
    "reg_tree.score(X_test, y_test)\n"
   ]
  },
  {
   "cell_type": "code",
   "execution_count": 10,
   "metadata": {},
   "outputs": [
    {
     "name": "stdout",
     "output_type": "stream",
     "text": [
      "Execution time: 0.20331692695617676\n"
     ]
    }
   ],
   "source": [
    "import time\n",
    "\n",
    "start_time = time.time()\n",
    "\n",
    "for i in range(10000):\n",
    "    #time.sleep(1/10000)\n",
    "    reg_tree.predict(X_test[0:1])\n",
    "\n",
    "end_time = time.time()\n",
    "execution_time =  end_time - start_time\n",
    "print(\"Execution time:\",execution_time)\n"
   ]
  },
  {
   "cell_type": "code",
   "execution_count": 11,
   "metadata": {},
   "outputs": [
    {
     "name": "stdout",
     "output_type": "stream",
     "text": [
      "258.2546210843896 260.11616122208034\n",
      "269.6670900842741 269.25776795616883\n",
      "255.2706758023976 255.2759537871661\n",
      "267.8193244199776 268.4571309742733\n",
      "281.3096809493365 281.2518575195008\n",
      "229.13817019957517 229.11064501790196\n",
      "267.09537433126906 265.04686285478385\n",
      "235.8810296665839 235.87251101014888\n",
      "240.5040301623573 240.1425011501275\n",
      "292.21579491312286 292.54623529375294\n",
      "227.56586163296552 227.56777051362425\n",
      "228.91935195387563 234.18245052596708\n",
      "267.33151896176537 267.2118277731915\n",
      "263.00143303423107 260.9174137107724\n",
      "290.99015692976445 291.80729254769426\n",
      "276.2804169730872 273.9446216643261\n",
      "230.26757262762763 230.24007743833727\n",
      "323.2581968505908 322.48691784434305\n",
      "59.521677590432034 59.59472817071542\n",
      "245.34635457805288 245.33435288779893\n",
      "124.41796447700658 123.98191610555898\n",
      "283.4455894483758 283.0984447388558\n",
      "224.0314872473444 225.31728126576417\n",
      "263.9336205790644 263.6152478264797\n",
      "221.82524158338404 221.7718132956611\n",
      "221.0477250521714 221.43850237025893\n",
      "265.0406622549181 266.2777558203033\n",
      "248.05991824183823 247.6693839725939\n",
      "212.3975714821457 212.32471731825515\n",
      "180.75542949982704 180.51085798530883\n",
      "253.80439426518436 252.00522364659463\n",
      "251.25859204088923 250.91100356708463\n",
      "133.58894756417618 132.7633480635618\n",
      "179.73366479123104 179.26209955393966\n",
      "225.4239345464537 224.9098678045985\n",
      "227.72069000865704 227.6739284912066\n",
      "277.7047436662472 276.70260192118565\n",
      "253.0390147571492 252.55853205038167\n",
      "257.99250478046724 257.2577287917819\n",
      "244.14510630639865 244.7506536374432\n",
      "239.5883463825645 239.84153866596915\n",
      "278.2594592612265 279.12386615277944\n",
      "195.0012652798457 194.7599126213288\n",
      "208.29547743014652 207.40772483501905\n",
      "287.9482538275249 288.6299961683961\n",
      "266.70161165517976 266.2082549845628\n",
      "257.76696452598344 257.33856503157114\n",
      "218.85610363005276 218.7784513852447\n",
      "242.3503561121788 242.8534829862216\n",
      "239.3623794253956 239.37957105035505\n",
      "246.93780336080013 246.932043662324\n",
      "289.33364903845563 288.61818848933206\n",
      "230.8017230606544 233.1426947471782\n",
      "211.3047851818165 211.68278758021663\n",
      "254.89132172224157 254.9327656544679\n",
      "225.65034934125583 225.6549889047449\n",
      "250.64424972802885 250.1526195074812\n",
      "203.6109675003973 203.0286497561562\n",
      "261.12373424717714 260.4918451262083\n",
      "255.16715917647477 254.57588914426543\n",
      "212.50980410642435 213.1959976086397\n",
      "252.1738581870174 252.16019947201968\n",
      "69.96087094877934 69.82980274097109\n",
      "231.20321505739005 231.1554206203756\n",
      "224.54872228244983 224.0750462228887\n",
      "135.06285261699676 135.87282823174448\n",
      "278.6249403661548 278.98448902103286\n",
      "312.92500059454073 312.93092784555444\n",
      "208.22516696407325 208.36168619432925\n",
      "227.05235461781285 226.97486378988796\n",
      "209.24173051995217 209.9365916113166\n",
      "292.50159671322353 292.69133581993594\n",
      "272.0826717939917 271.59383200471103\n",
      "223.73530770118924 227.4298604442173\n",
      "228.8334543338445 228.40414374006335\n",
      "221.70958636733383 221.6378712270688\n",
      "239.3535301924325 239.1583967224235\n",
      "139.9902941564953 140.0750815498931\n",
      "204.85864553804265 205.0082790602752\n",
      "260.04809755963703 260.1663629210806\n",
      "247.139926323292 247.1333135375765\n",
      "271.4898404750781 272.1507392533951\n",
      "215.99208707971115 216.0268845641377\n",
      "245.82400294832445 246.0295516316024\n",
      "303.70452235576715 306.3884280875095\n",
      "219.8411532067086 219.83640942349405\n",
      "276.05799409383167 276.51585989242164\n",
      "233.14736870871357 233.13598806072235\n",
      "237.9496764751172 237.9316136943352\n",
      "289.74319461729 290.0482553271453\n",
      "227.32855027186085 225.3519035439814\n",
      "222.3591407612953 222.3023182126557\n",
      "252.80790646313605 250.0256227353217\n",
      "328.01555672265187 328.32329358362745\n",
      "206.73677327854037 206.86157828356824\n",
      "283.24114440598 284.13624594409544\n",
      "156.7182530027561 158.06365960470188\n",
      "276.4715188922331 276.50661480368973\n",
      "268.2041491563833 268.807720614627\n",
      "184.1518148863121 185.03540551994053\n"
     ]
    }
   ],
   "source": [
    "for i in range(100):\n",
    "    print(pred[i][0], y_test[i][0])"
   ]
  },
  {
   "cell_type": "code",
   "execution_count": 14,
   "metadata": {},
   "outputs": [
    {
     "data": {
      "image/png": "[encoded data removed]",
      "text/plain": [
       "<Figure size 1500x400 with 6 Axes>"
      ]
     },
     "metadata": {},
     "output_type": "display_data"
    }
   ],
   "source": [
    "# Número de subplots\n",
    "\n",
    "num_plots = 6\n",
    "\n",
    "# Configuração da figura\n",
    "fig, axes = plt.subplots(1, num_plots, figsize=(15, 4))  # 1 linha e 'num_plots' colunas de subplots.\n",
    "\n",
    "# Título geral\n",
    "fig.suptitle(\"Scatterplots of Actual vs. Predicted Values\")\n",
    "\n",
    "nomes_predicoes = ['IspSea', 'IspVac', 'Cstar', 'Tc', 'mw', 'gamma']\n",
    "\n",
    "# Loop para criar os subplots\n",
    "for i in range(num_plots):\n",
    "    ax = axes[i]\n",
    "    ax.scatter(y_test[:, i], pred[:, i])\n",
    "    ax.set_xlabel(f\"Actual Values {nomes_predicoes[i]}\")\n",
    "    ax.set_ylabel(f\"Predicted Values {nomes_predicoes[i]}\")\n",
    "\n",
    "plt.tight_layout()\n",
    "plt.show()"
   ]
  },
  {
   "cell_type": "code",
   "execution_count": 15,
   "metadata": {},
   "outputs": [
    {
     "data": {
      "text/plain": [
       "['decision_tree_model.pkl']"
      ]
     },
     "execution_count": 15,
     "metadata": {},
     "output_type": "execute_result"
    }
   ],
   "source": [
    "# Salva o modelo\n",
    "joblib.dump(reg_tree, 'decision_tree_model.pkl')\n"
   ]
  },
  {
   "cell_type": "code",
   "execution_count": 37,
   "metadata": {},
   "outputs": [],
   "source": [
    "model = joblib.load('/Users/pdcos/Documents/Estudos/Mestrado/Tese/Implementação da Tese do Jentzsch/rocket_optimization_implementation/model/engines/decision_tree_model.pkl')"
   ]
  },
  {
   "cell_type": "code",
   "execution_count": 38,
   "metadata": {},
   "outputs": [
    {
     "data": {
      "text/plain": [
       "DecisionTreeRegressor(max_depth=1000)"
      ]
     },
     "execution_count": 38,
     "metadata": {},
     "output_type": "execute_result"
    }
   ],
   "source": [
    "model"
   ]
  }
 ],
 "metadata": {
  "kernelspec": {
   "display_name": "deeplearning",
   "language": "python",
   "name": "python3"
  },
  "language_info": {
   "codemirror_mode": {
    "name": "ipython",
    "version": 3
   },
   "file_extension": ".py",
   "mimetype": "text/x-python",
   "name": "python",
   "nbconvert_exporter": "python",
   "pygments_lexer": "ipython3",
   "version": "3.10.13"
  },
  "orig_nbformat": 4
 },
 "nbformat": 4,
 "nbformat_minor": 2
}
