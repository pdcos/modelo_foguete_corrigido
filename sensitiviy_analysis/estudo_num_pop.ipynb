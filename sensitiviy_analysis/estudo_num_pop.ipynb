{
 "cells": [
  {
   "cell_type": "markdown",
   "metadata": {},
   "source": [
    "Este notebook se dedica a realizar um estudo do número ideal de indivíduos nos algoritmos genéticos"
   ]
  },
  {
   "cell_type": "code",
   "execution_count": 1,
   "metadata": {},
   "outputs": [],
   "source": [
    "import sys\n",
    "sys.path.append('../')\n",
    "from optm_algorithms.pso import PSO\n",
    "from optm_algorithms.differential_evolution import DifferentialEvolutionAlgorithm\n",
    "from optm_algorithms.depso import DEPSO\n",
    "from optm_algorithms.cma_es import CMA_ES\n",
    "\n",
    "from fitness_function import RocketFitness, bound_values, fitness_func\n",
    "import numpy as np\n",
    "import warnings\n",
    "from tqdm import tqdm\n",
    "import json\n",
    "import pandas as pd\n",
    "\n",
    "rocket_fitness = RocketFitness(bound_values, num_workers=4)\n",
    "random_values = np.random.rand(10,10)\n",
    "fitness_func_class = rocket_fitness.calc_fitness\n"
   ]
  },
  {
   "cell_type": "code",
   "execution_count": 2,
   "metadata": {},
   "outputs": [
    {
     "name": "stdout",
     "output_type": "stream",
     "text": [
      "[0.5        0.         0.         0.5        0.5        0.\n",
      " 0.5        0.5        0.5        0.         0.         0.5\n",
      " 0.         0.5        0.         0.5        0.         0.\n",
      " 0.5        0.5        0.         0.2879142  0.5        0.5\n",
      " 0.5        0.         0.         0.29274715 0.41478951 0.\n",
      " 0.5        0.         0.         0.         0.5        0.5\n",
      " 0.         0.5        0.28222927 0.28916767 0.5        0.29633999\n",
      " 0.         0.5        0.5        0.5        0.         0.5\n",
      " 0.5        0.22860655 0.5        0.         0.         0.\n",
      " 0.         0.5        0.5        0.5        0.         0.\n",
      " 0.5        0.5        0.5        0.         0.5        0.\n",
      " 0.         0.5        0.5        0.5        0.         0.\n",
      " 0.5        0.         0.5        0.         0.5        0.5\n",
      " 0.5        0.5        0.5        0.         0.         0.5\n",
      " 0.         0.         0.25794767 0.5        0.         0.\n",
      " 0.         0.         0.5        0.         0.         0.\n",
      " 0.         0.34324438 0.         0.5       ]\n"
     ]
    }
   ],
   "source": [
    "# Adiciona a seed ao numpy\n",
    "np.random.seed(42)\n",
    "rocket_fitness = RocketFitness(bound_values, num_workers=4)\n",
    "random_values = np.random.rand(100,10)\n",
    "fitness_func_class = rocket_fitness.calc_fitness\n",
    "\n",
    "fitness_scores = fitness_func_class(random_values)\n",
    "print(fitness_scores)"
   ]
  },
  {
   "cell_type": "code",
   "execution_count": 3,
   "metadata": {},
   "outputs": [
    {
     "name": "stderr",
     "output_type": "stream",
     "text": [
      "  3%|▎         | 1/29 [00:02<00:57,  2.06s/it]"
     ]
    },
    {
     "name": "stdout",
     "output_type": "stream",
     "text": [
      "Population size: 100\n"
     ]
    },
    {
     "name": "stderr",
     "output_type": "stream",
     "text": [
      "  7%|▋         | 2/29 [00:05<01:12,  2.69s/it]"
     ]
    },
    {
     "name": "stdout",
     "output_type": "stream",
     "text": [
      "Population size: 200\n"
     ]
    },
    {
     "name": "stderr",
     "output_type": "stream",
     "text": [
      " 10%|█         | 3/29 [00:09<01:27,  3.36s/it]"
     ]
    },
    {
     "name": "stdout",
     "output_type": "stream",
     "text": [
      "Population size: 300\n"
     ]
    },
    {
     "name": "stderr",
     "output_type": "stream",
     "text": [
      " 14%|█▍        | 4/29 [00:14<01:42,  4.11s/it]"
     ]
    },
    {
     "name": "stdout",
     "output_type": "stream",
     "text": [
      "Population size: 400\n"
     ]
    },
    {
     "name": "stderr",
     "output_type": "stream",
     "text": [
      " 17%|█▋        | 5/29 [00:20<01:57,  4.88s/it]"
     ]
    },
    {
     "name": "stdout",
     "output_type": "stream",
     "text": [
      "Population size: 500\n"
     ]
    },
    {
     "name": "stderr",
     "output_type": "stream",
     "text": [
      " 21%|██        | 6/29 [00:28<02:12,  5.74s/it]"
     ]
    },
    {
     "name": "stdout",
     "output_type": "stream",
     "text": [
      "Population size: 600\n"
     ]
    },
    {
     "name": "stderr",
     "output_type": "stream",
     "text": [
      " 24%|██▍       | 7/29 [00:36<02:25,  6.60s/it]"
     ]
    },
    {
     "name": "stdout",
     "output_type": "stream",
     "text": [
      "Population size: 700\n"
     ]
    },
    {
     "name": "stderr",
     "output_type": "stream",
     "text": [
      " 28%|██▊       | 8/29 [00:46<02:38,  7.54s/it]"
     ]
    },
    {
     "name": "stdout",
     "output_type": "stream",
     "text": [
      "Population size: 800\n"
     ]
    },
    {
     "name": "stderr",
     "output_type": "stream",
     "text": [
      " 31%|███       | 9/29 [00:56<02:49,  8.45s/it]"
     ]
    },
    {
     "name": "stdout",
     "output_type": "stream",
     "text": [
      "Population size: 900\n"
     ]
    },
    {
     "name": "stderr",
     "output_type": "stream",
     "text": [
      " 34%|███▍      | 10/29 [01:08<02:58,  9.42s/it]"
     ]
    },
    {
     "name": "stdout",
     "output_type": "stream",
     "text": [
      "Population size: 1000\n"
     ]
    },
    {
     "name": "stderr",
     "output_type": "stream",
     "text": [
      " 38%|███▊      | 11/29 [01:20<03:07, 10.43s/it]"
     ]
    },
    {
     "name": "stdout",
     "output_type": "stream",
     "text": [
      "Population size: 1100\n"
     ]
    },
    {
     "name": "stderr",
     "output_type": "stream",
     "text": [
      " 41%|████▏     | 12/29 [01:34<03:14, 11.43s/it]"
     ]
    },
    {
     "name": "stdout",
     "output_type": "stream",
     "text": [
      "Population size: 1200\n"
     ]
    },
    {
     "name": "stderr",
     "output_type": "stream",
     "text": [
      " 45%|████▍     | 13/29 [01:49<03:18, 12.42s/it]"
     ]
    },
    {
     "name": "stdout",
     "output_type": "stream",
     "text": [
      "Population size: 1300\n"
     ]
    },
    {
     "name": "stderr",
     "output_type": "stream",
     "text": [
      " 48%|████▊     | 14/29 [02:05<03:22, 13.47s/it]"
     ]
    },
    {
     "name": "stdout",
     "output_type": "stream",
     "text": [
      "Population size: 1400\n"
     ]
    },
    {
     "name": "stderr",
     "output_type": "stream",
     "text": [
      " 52%|█████▏    | 15/29 [02:22<03:23, 14.51s/it]"
     ]
    },
    {
     "name": "stdout",
     "output_type": "stream",
     "text": [
      "Population size: 1500\n"
     ]
    },
    {
     "name": "stderr",
     "output_type": "stream",
     "text": [
      " 55%|█████▌    | 16/29 [02:40<03:22, 15.55s/it]"
     ]
    },
    {
     "name": "stdout",
     "output_type": "stream",
     "text": [
      "Population size: 1600\n"
     ]
    },
    {
     "name": "stderr",
     "output_type": "stream",
     "text": [
      " 59%|█████▊    | 17/29 [02:59<03:19, 16.60s/it]"
     ]
    },
    {
     "name": "stdout",
     "output_type": "stream",
     "text": [
      "Population size: 1700\n"
     ]
    },
    {
     "name": "stderr",
     "output_type": "stream",
     "text": [
      " 62%|██████▏   | 18/29 [03:19<03:13, 17.62s/it]"
     ]
    },
    {
     "name": "stdout",
     "output_type": "stream",
     "text": [
      "Population size: 1800\n"
     ]
    },
    {
     "name": "stderr",
     "output_type": "stream",
     "text": [
      " 66%|██████▌   | 19/29 [03:40<03:06, 18.63s/it]"
     ]
    },
    {
     "name": "stdout",
     "output_type": "stream",
     "text": [
      "Population size: 1900\n"
     ]
    },
    {
     "name": "stderr",
     "output_type": "stream",
     "text": [
      " 69%|██████▉   | 20/29 [04:02<02:57, 19.71s/it]"
     ]
    },
    {
     "name": "stdout",
     "output_type": "stream",
     "text": [
      "Population size: 2000\n"
     ]
    },
    {
     "name": "stderr",
     "output_type": "stream",
     "text": [
      " 72%|███████▏  | 21/29 [04:25<02:46, 20.78s/it]"
     ]
    },
    {
     "name": "stdout",
     "output_type": "stream",
     "text": [
      "Population size: 2100\n"
     ]
    },
    {
     "name": "stderr",
     "output_type": "stream",
     "text": [
      " 76%|███████▌  | 22/29 [04:50<02:33, 21.87s/it]"
     ]
    },
    {
     "name": "stdout",
     "output_type": "stream",
     "text": [
      "Population size: 2200\n"
     ]
    },
    {
     "name": "stderr",
     "output_type": "stream",
     "text": [
      " 79%|███████▉  | 23/29 [05:15<02:17, 22.91s/it]"
     ]
    },
    {
     "name": "stdout",
     "output_type": "stream",
     "text": [
      "Population size: 2300\n"
     ]
    },
    {
     "name": "stderr",
     "output_type": "stream",
     "text": [
      " 83%|████████▎ | 24/29 [05:42<02:00, 24.02s/it]"
     ]
    },
    {
     "name": "stdout",
     "output_type": "stream",
     "text": [
      "Population size: 2400\n"
     ]
    },
    {
     "name": "stderr",
     "output_type": "stream",
     "text": [
      " 86%|████████▌ | 25/29 [06:11<01:43, 25.78s/it]"
     ]
    },
    {
     "name": "stdout",
     "output_type": "stream",
     "text": [
      "Population size: 2500\n"
     ]
    }
   ],
   "source": [
    "import timeit\n",
    "def calc_mean_time(fitness_func, n=10, start=100, end=5000, step=100):\n",
    "    mean_times = []\n",
    "    mean_n_occur = []\n",
    "    mean_n_occur_perc = []\n",
    "    pop_size = []\n",
    "    for i in tqdm(range(start, end, step)):\n",
    "        times = []\n",
    "        for j in range(n):\n",
    "            #np.random.seed(42)\n",
    "            random_values = np.random.rand(i,10)\n",
    "            start_time = timeit.default_timer()\n",
    "            fitness = fitness_func(random_values)\n",
    "            end_time = timeit.default_timer()\n",
    "            elapsed_time = end_time - start_time\n",
    "            times.append(elapsed_time)\n",
    "            # Calcula o número de ocorrências de indivíduos com fitness maior que 0.5\n",
    "            n_occur = fitness[fitness > 0.5].shape[0]\n",
    "        mean_times.append(np.mean(times))\n",
    "        # calcula a média e a média da porcentagem de ocorrências para retorná-las\n",
    "        mean_n_occur.append( np.mean(n_occur))\n",
    "        mean_n_occur_perc.append(np.mean(n_occur/i))\n",
    "        pop_size.append(i)\n",
    "        print(f\"Population size: {i}\")\n",
    "        # converte em vetores \n",
    "    return mean_times, mean_n_occur, mean_n_occur_perc, pop_size\n",
    "\n",
    "mean_times, mean_n_occur, mean_n_occur_perc,pop_size = calc_mean_time(fitness_func_class, n=10, start=100, end=3000, step=100)"
   ]
  },
  {
   "cell_type": "code",
   "execution_count": null,
   "metadata": {},
   "outputs": [],
   "source": [
    "# Salva os valores mean_times, mean_n_occur, mean_n_occur_perc em um mesmo csv (com pandas) para não precisar rodar novamente\n",
    "import pandas as pd\n",
    "df = pd.DataFrame({'mean_times': mean_times, 'mean_n_occur': mean_n_occur, 'mean_n_occur_perc': mean_n_occur_perc, 'pop_size': pop_size})\n",
    "df.to_csv('mean_times.csv', index=False)"
   ]
  },
  {
   "cell_type": "code",
   "execution_count": null,
   "metadata": {},
   "outputs": [],
   "source": [
    "# Carrega os valores mean_times, mean_time, mean_n_occur\n",
    "import pandas as pd\n",
    "df = pd.read_csv('mean_times.csv')\n",
    "mean_times = df['mean_times'].values\n",
    "mean_time = df['mean_time'].values\n",
    "mean_n_occur = df['mean_n_occur'].values\n"
   ]
  },
  {
   "cell_type": "code",
   "execution_count": null,
   "metadata": {},
   "outputs": [
    {
     "data": {
      "image/png": "[encoded data removed]",
      "text/plain": [
       "<Figure size 640x480 with 1 Axes>"
      ]
     },
     "metadata": {},
     "output_type": "display_data"
    },
    {
     "data": {
      "image/png": "[encoded data removed]",
      "text/plain": [
       "<Figure size 640x480 with 1 Axes>"
      ]
     },
     "metadata": {},
     "output_type": "display_data"
    }
   ],
   "source": [
    "# Plota um gráfico de tempo de execução em função do tamanho da população\n",
    "import matplotlib.pyplot as plt\n",
    "plt.plot(pop_size, mean_times)\n",
    "plt.xlabel(\"Tamanho da população\", fontsize=14)\n",
    "plt.ylabel(\"Tempo médio de execução (s)\", fontsize=14)\n",
    "plt.tick_params(axis='both', which='major', labelsize=14) # Ajusta o tamanho da fonte dos números nos eixos\n",
    "\n",
    "plt.show()\n",
    "\n",
    "# Plota um gráfico de número de ocorrências em função do tamanho da população\n",
    "import matplotlib.pyplot as plt\n",
    "plt.plot(pop_size, mean_n_occur)\n",
    "plt.xlabel(\"Population size\")\n",
    "plt.ylabel(\"Mean n_occur\")\n",
    "plt.show()\n"
   ]
  }
 ],
 "metadata": {
  "kernelspec": {
   "display_name": "deeplearning",
   "language": "python",
   "name": "python3"
  },
  "language_info": {
   "codemirror_mode": {
    "name": "ipython",
    "version": 3
   },
   "file_extension": ".py",
   "mimetype": "text/x-python",
   "name": "python",
   "nbconvert_exporter": "python",
   "pygments_lexer": "ipython3",
   "version": "3.10.13"
  }
 },
 "nbformat": 4,
 "nbformat_minor": 2
}
