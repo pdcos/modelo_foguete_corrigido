{
 "cells": [
  {
   "cell_type": "code",
   "execution_count": 2,
   "metadata": {},
   "outputs": [],
   "source": [
    "from engines.engine_model import EngineProp\n",
    "from build_rocket import RocketModel\n",
    "import numpy as np\n",
    "import time\n",
    "import joblib\n",
    "from rocketcea.cea_obj_w_units import CEA_Obj\n"
   ]
  },
  {
   "cell_type": "markdown",
   "metadata": {},
   "source": [
    "# Comparando tempo de execução do modelo de motor\n",
    "## Metodologia:\n",
    " - Calcular sequencialmente o tempo de execução para 10.000 indivíduos considerando o CEA e o reg_model\n",
    "\n",
    "### 1. CEA"
   ]
  },
  {
   "cell_type": "code",
   "execution_count": 3,
   "metadata": {},
   "outputs": [],
   "source": [
    "# Inicializando parâmetros de entrada\n",
    "MR = 2.8\n",
    "Pc = 11.5 * 1e6\n",
    "eps = 180\n",
    "\n",
    "# Inicializando CEA e arvore de decisao \n",
    "reg_path = '/home/ubuntu/Mestrado/modelo_foguete/model/engines/decision_tree_model.pkl'\n",
    "reg_model = joblib.load(reg_path)\n",
    "#reg_model = False\n",
    "cea_obj = ceaObj = CEA_Obj( oxName='LOX', fuelName='RP-1', pressure_units='MPa', cstar_units='m/s', temperature_units='K')\n"
   ]
  },
  {
   "cell_type": "code",
   "execution_count": 15,
   "metadata": {},
   "outputs": [
    {
     "name": "stdout",
     "output_type": "stream",
     "text": [
      "Isp Vac (s): 372.0353983280371\n",
      "Isp Sea (s): 209.75868815824597\n",
      "Mass flow (kg/s): 310.1185528455126\n",
      "Thrust Vac (kN): 1295.4477569099522\n",
      "Thrust Sea (kN): 539.4406654083928\n",
      "########################################\n",
      "Tempo total de execução: 15.520617723464966\n"
     ]
    }
   ],
   "source": [
    "time_start = time.time()\n",
    "for i in range(10000):\n",
    "    engine_cea = EngineProp(\n",
    "        MR=MR,\n",
    "        Pc=Pc,\n",
    "        eps=eps,\n",
    "        nozzleDiam=0.23125,\n",
    "        cea_obj=cea_obj,\n",
    "        verbose=False\n",
    "    )\n",
    "    engine_cea.estimate_all()\n",
    "time_end = time.time()\n",
    "tempo_engine_cea = time_end - time_start\n",
    "engine_cea.print_all_parameters()\n",
    "print(\"#\" * 40)\n",
    "print(f\"Tempo total de execução: {tempo_engine_cea}\")\n"
   ]
  },
  {
   "cell_type": "markdown",
   "metadata": {},
   "source": [
    "### 2. Árvore de Decisão"
   ]
  },
  {
   "cell_type": "code",
   "execution_count": 14,
   "metadata": {},
   "outputs": [
    {
     "name": "stdout",
     "output_type": "stream",
     "text": [
      "Isp Vac (s): 371.0670875636104\n",
      "Isp Sea (s): 207.56445875314893\n",
      "Mass flow (kg/s): 312.410473845755\n",
      "Thrust Vac (kN): 1293.2092411411538\n",
      "Thrust Sea (kN): 537.2021496395942\n",
      "########################################\n",
      "Tempo total de execução: 5.927952766418457\n"
     ]
    }
   ],
   "source": [
    "time_start = time.time()\n",
    "for i in range(10000):\n",
    "    engine_arvore = EngineProp(\n",
    "        MR=MR,\n",
    "        Pc=Pc,\n",
    "        eps=eps,\n",
    "        nozzleDiam=0.23125,\n",
    "        cea_obj=False,\n",
    "        verbose=False,\n",
    "        reg_model=reg_model\n",
    "    )\n",
    "    engine_arvore.estimate_all()\n",
    "time_end = time.time()\n",
    "tempo_engine_arvore = time_end - time_start\n",
    "engine_arvore.print_all_parameters()\n",
    "print(\"#\" * 40)\n",
    "print(f\"Tempo total de execução: {tempo_engine_arvore}\")\n"
   ]
  },
  {
   "cell_type": "code",
   "execution_count": 18,
   "metadata": {},
   "outputs": [
    {
     "name": "stdout",
     "output_type": "stream",
     "text": [
      "Melhora no tempo de execução:\n",
      "Árvore de decisão é 2.618208736646563 x mais rápida\n"
     ]
    }
   ],
   "source": [
    "print(\"Melhora no tempo de execução:\")\n",
    "ratio = tempo_engine_cea/tempo_engine_arvore\n",
    "print(f\"Árvore de decisão é {ratio} x mais rápida\")"
   ]
  },
  {
   "cell_type": "markdown",
   "metadata": {},
   "source": [
    "# Comparando o tempo de execução do modelo completo\n",
    "\n",
    "### 1. CEA"
   ]
  },
  {
   "cell_type": "code",
   "execution_count": 20,
   "metadata": {},
   "outputs": [],
   "source": [
    "# Inicializando parâmetros:\n",
    "engineParams = {\"oxName\": \"LOX\",\n",
    "                \"fuelName\": \"RP-1\",\n",
    "                \"combPressure\": 11.5 * 1e6,\n",
    "                \"MR\": 2.8,\n",
    "                \"nozzleDiam\": 0.23125,\n",
    "                \"eps\": 180}\n",
    "\n",
    "engineParamsFirst = {\"oxName\": \"LOX\",\n",
    "                \"fuelName\": \"RP-1\",\n",
    "                \"combPressure\": 11.5 * 1e6,\n",
    "                \"MR\": 2.8,\n",
    "                \"nozzleDiam\": 0.23125,\n",
    "                \"eps\": 25}\n",
    "\n",
    "payloadBayParams = {\"payloadHeight\": 6.7,\n",
    "                    \"payloadRadius\": 4.6/2,\n",
    "                    \"payloadMass\": 7500,\n",
    "                    \"lowerStageRadius\": 2.1,\n",
    "                    \"lowerRocketSurfaceArea\": 0} # 0 porque ainda nao temos esse valor\n",
    "\n",
    "upperStageStructureParams = {\"oxName\": \"LOX\",\n",
    "                                \"fuelName\": \"RP1\",\n",
    "                                \"MR\": 2.8,\n",
    "                                \"tankPressure\": 0.1,\n",
    "                                \"radius\": 2.1,\n",
    "                            } # 0 porque ainda nao temos esse valor\n",
    "lowerStageStructureParams = {\"oxName\": \"LOX\",\n",
    "                            \"fuelName\": \"RP1\",\n",
    "                            \"MR\": 2.8,\n",
    "                            \"tankPressure\": 0.1,\n",
    "                            \"radius\": 2.8,\n",
    "                        } # 0 porque ainda nao temos esse valor\n"
   ]
  },
  {
   "cell_type": "code",
   "execution_count": 24,
   "metadata": {},
   "outputs": [
    {
     "name": "stdout",
     "output_type": "stream",
     "text": [
      "########################################\n",
      "Tempo total de execução: 36.98487210273743\n"
     ]
    }
   ],
   "source": [
    "time_start = time.time()\n",
    "for i in range(10000):\n",
    "    rocket_model_cea = RocketModel(upperEngineParams=engineParams,\n",
    "                            firstEngineParams=engineParamsFirst,\n",
    "                            payloadBayParams=payloadBayParams,\n",
    "                            upperStageStructureParams=upperStageStructureParams,\n",
    "                            firstStageStructureParams = lowerStageStructureParams,\n",
    "                            deltaV_upperStage=9000,\n",
    "                            deltaV_landing=2000,\n",
    "                            deltaV_firstStage=3000,\n",
    "                            nEnginesUpperStage=1,\n",
    "                            nEnignesFirstStage=9,\n",
    "                            reg_model=False,\n",
    "                            cea_obj=cea_obj,\n",
    "                            )\n",
    "\n",
    "    rocket_model_cea.build_all()\n",
    "    #rocket_model.print_all_parameters()\n",
    "time_end = time.time()\n",
    "tempo_rocket_cea = time_end - time_start\n",
    "print(\"#\" * 40)\n",
    "print(f\"Tempo total de execução: {tempo_rocket_cea}\")\n",
    "\n"
   ]
  },
  {
   "cell_type": "markdown",
   "metadata": {},
   "source": [
    "### 2. Árvore de Decisão"
   ]
  },
  {
   "cell_type": "code",
   "execution_count": 25,
   "metadata": {},
   "outputs": [
    {
     "name": "stdout",
     "output_type": "stream",
     "text": [
      "########################################\n",
      "Tempo total de execução: 15.292006015777588\n"
     ]
    }
   ],
   "source": [
    "time_start = time.time()\n",
    "for i in range(10000):\n",
    "    rocket_model_arvore = RocketModel(upperEngineParams=engineParams,\n",
    "                            firstEngineParams=engineParamsFirst,\n",
    "                            payloadBayParams=payloadBayParams,\n",
    "                            upperStageStructureParams=upperStageStructureParams,\n",
    "                            firstStageStructureParams = lowerStageStructureParams,\n",
    "                            deltaV_upperStage=9000,\n",
    "                            deltaV_landing=2000,\n",
    "                            deltaV_firstStage=3000,\n",
    "                            nEnginesUpperStage=1,\n",
    "                            nEnignesFirstStage=9,\n",
    "                            reg_model=reg_model,\n",
    "                            cea_obj=False,\n",
    "                            )\n",
    "\n",
    "    rocket_model_arvore.build_all()\n",
    "    #rocket_model.print_all_parameters()\n",
    "time_end = time.time()\n",
    "tempo_rocket_arvore = time_end - time_start\n",
    "print(\"#\" * 40)\n",
    "print(f\"Tempo total de execução: {tempo_rocket_arvore}\")\n"
   ]
  },
  {
   "cell_type": "code",
   "execution_count": 26,
   "metadata": {},
   "outputs": [
    {
     "name": "stdout",
     "output_type": "stream",
     "text": [
      "Melhora no tempo de execução:\n",
      "Árvore de decisão é 2.418575565859583 x mais rápida\n"
     ]
    }
   ],
   "source": [
    "print(\"Melhora no tempo de execução:\")\n",
    "ratio = tempo_rocket_cea/tempo_rocket_arvore\n",
    "print(f\"Árvore de decisão é {ratio} x mais rápida\")"
   ]
  }
 ],
 "metadata": {
  "kernelspec": {
   "display_name": "Python 3",
   "language": "python",
   "name": "python3"
  },
  "language_info": {
   "codemirror_mode": {
    "name": "ipython",
    "version": 3
   },
   "file_extension": ".py",
   "mimetype": "text/x-python",
   "name": "python",
   "nbconvert_exporter": "python",
   "pygments_lexer": "ipython3",
   "version": "3.10.12"
  }
 },
 "nbformat": 4,
 "nbformat_minor": 2
}
