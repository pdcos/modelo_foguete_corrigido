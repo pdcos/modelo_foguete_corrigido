{
 "cells": [
  {
   "cell_type": "code",
   "execution_count": 2,
   "metadata": {},
   "outputs": [],
   "source": [
    "import sys\n",
    "sys.path.append('../')\n",
    "from optm_algorithms.pso import PSO\n",
    "from optm_algorithms.differential_evolution import DifferentialEvolutionAlgorithm\n",
    "\n",
    "from fitness_function import RocketFitness, bound_values, fitness_func\n",
    "import numpy as np\n",
    "import warnings\n",
    "from tqdm import tqdm\n",
    "import json\n"
   ]
  },
  {
   "cell_type": "code",
   "execution_count": 3,
   "metadata": {},
   "outputs": [],
   "source": [
    "# Inicializando função de fitness\n",
    "rocket_fitness = RocketFitness(bound_values, num_workers=4)\n",
    "random_values = np.random.rand(10,10)\n",
    "fitness_func_class = rocket_fitness.calc_fitness\n"
   ]
  },
  {
   "cell_type": "markdown",
   "metadata": {},
   "source": [
    "# Análise de Sensibilidade do PSO\n",
    "\n",
    "Hiperparâmetros a serem otimizados:\n",
    "- global_factor\n",
    "- speed_factor\n",
    "- v_max\n",
    "\n",
    "Condições:\n",
    "- local_factor + global_factor > 4\n",
    "- todos os hiperparâmetros são maiores que zero"
   ]
  },
  {
   "cell_type": "code",
   "execution_count": 4,
   "metadata": {},
   "outputs": [
    {
     "name": "stdout",
     "output_type": "stream",
     "text": [
      "Global factor list:  [1.   2.25 3.5  4.75 6.  ]\n",
      "Local factor list:  [1.   2.25 3.5  4.75 6.  ]\n",
      "V_max:  [ 1.    3.25  5.5   7.75 10.  ]\n"
     ]
    }
   ],
   "source": [
    "global_factor_list = np.linspace(1, 6, 5)\n",
    "local_factor_list = np.linspace(1, 6, 5)\n",
    "v_max = np.linspace(1,10,5)\n",
    "# Printa hiperparâmetros\n",
    "print(\"Global factor list: \", global_factor_list)\n",
    "print(\"Local factor list: \", local_factor_list)\n",
    "print(\"V_max: \", v_max)\n",
    "\n",
    "grid1, grid2, grid3 = np.meshgrid(global_factor_list, local_factor_list, v_max)\n",
    "\n",
    "combinations = np.vstack((grid1.ravel(), grid2.ravel(), grid3.ravel())).T\n",
    "sum_of_columns = combinations[:, 0] + combinations[:, 1]\n",
    "\n",
    "# Use logical indexing to select rows where the sum of the first and second columns is greater than 4\n",
    "combinations = combinations[sum_of_columns > 4]\n"
   ]
  },
  {
   "cell_type": "code",
   "execution_count": 9,
   "metadata": {},
   "outputs": [
    {
     "data": {
      "text/plain": [
       "(110, 3)"
      ]
     },
     "execution_count": 9,
     "metadata": {},
     "output_type": "execute_result"
    }
   ],
   "source": [
    "combinations.shape"
   ]
  },
  {
   "cell_type": "code",
   "execution_count": 5,
   "metadata": {},
   "outputs": [
    {
     "name": "stderr",
     "output_type": "stream",
     "text": [
      "  0%|          | 0/110 [00:00<?, ?it/s]"
     ]
    },
    {
     "name": "stdout",
     "output_type": "stream",
     "text": [
      "Epoch 0: Best: 0.5688369478323626, Average: 0.24442910624309014\n"
     ]
    },
    {
     "name": "stderr",
     "output_type": "stream",
     "text": []
    },
    {
     "name": "stdout",
     "output_type": "stream",
     "text": [
      "Epoch 10: Best: 0.6343523979810934, Average: 0.5029435026480478\n"
     ]
    },
    {
     "name": "stderr",
     "output_type": "stream",
     "text": []
    },
    {
     "name": "stdout",
     "output_type": "stream",
     "text": [
      "Epoch 20: Best: 0.6371034360539911, Average: 0.5490170098417358\n"
     ]
    },
    {
     "name": "stderr",
     "output_type": "stream",
     "text": [
      " 23%|██▎       | 23/100 [00:14<00:48,  1.58it/s]\n",
      "  0%|          | 0/110 [00:15<?, ?it/s]\n"
     ]
    },
    {
     "ename": "KeyboardInterrupt",
     "evalue": "",
     "output_type": "error",
     "traceback": [
      "\u001b[0;31m---------------------------------------------------------------------------\u001b[0m",
      "\u001b[0;31mKeyboardInterrupt\u001b[0m                         Traceback (most recent call last)",
      "Cell \u001b[0;32mIn[5], line 47\u001b[0m\n\u001b[1;32m     42\u001b[0m         json\u001b[38;5;241m.\u001b[39mdump(simulations_list, fout)\n\u001b[1;32m     44\u001b[0m     \u001b[38;5;28;01mreturn\u001b[39;00m\n\u001b[0;32m---> 47\u001b[0m \u001b[43mexecute_sensitivity_analysis_pso\u001b[49m\u001b[43m(\u001b[49m\u001b[43mcombinations\u001b[49m\u001b[43m,\u001b[49m\u001b[43m \u001b[49m\u001b[38;5;124;43m'\u001b[39;49m\u001b[38;5;124;43msimulations/pso_sensitivity.json\u001b[39;49m\u001b[38;5;124;43m'\u001b[39;49m\u001b[43m)\u001b[49m\n",
      "Cell \u001b[0;32mIn[5], line 28\u001b[0m, in \u001b[0;36mexecute_sensitivity_analysis_pso\u001b[0;34m(combinations, filename)\u001b[0m\n\u001b[1;32m     10\u001b[0m v_max \u001b[38;5;241m=\u001b[39m row[\u001b[38;5;241m2\u001b[39m]\n\u001b[1;32m     12\u001b[0m pso_alg \u001b[38;5;241m=\u001b[39m PSO(\n\u001b[1;32m     13\u001b[0m     num_epochs\u001b[38;5;241m=\u001b[39m\u001b[38;5;241m100\u001b[39m,\n\u001b[1;32m     14\u001b[0m     pop_size\u001b[38;5;241m=\u001b[39m\u001b[38;5;241m1000\u001b[39m,\n\u001b[0;32m   (...)\u001b[0m\n\u001b[1;32m     25\u001b[0m     eval_every\u001b[38;5;241m=\u001b[39m\u001b[38;5;241m10\u001b[39m,\n\u001b[1;32m     26\u001b[0m     )\n\u001b[0;32m---> 28\u001b[0m best_solutions \u001b[38;5;241m=\u001b[39m \u001b[43mpso_alg\u001b[49m\u001b[38;5;241;43m.\u001b[39;49m\u001b[43mfit\u001b[49m\u001b[43m(\u001b[49m\u001b[43m)\u001b[49m\n\u001b[1;32m     30\u001b[0m dict_save \u001b[38;5;241m=\u001b[39m {\u001b[38;5;124m'\u001b[39m\u001b[38;5;124mglobal_factor\u001b[39m\u001b[38;5;124m'\u001b[39m: global_factor,\n\u001b[1;32m     31\u001b[0m              \u001b[38;5;124m'\u001b[39m\u001b[38;5;124mlocal_factor\u001b[39m\u001b[38;5;124m'\u001b[39m: local_factor,\n\u001b[1;32m     32\u001b[0m              \u001b[38;5;124m'\u001b[39m\u001b[38;5;124mv_max\u001b[39m\u001b[38;5;124m'\u001b[39m: v_max,\n\u001b[0;32m   (...)\u001b[0m\n\u001b[1;32m     37\u001b[0m              \u001b[38;5;124m'\u001b[39m\u001b[38;5;124mtotal_time\u001b[39m\u001b[38;5;124m'\u001b[39m: pso_alg\u001b[38;5;241m.\u001b[39mtotal_exec_time,\n\u001b[1;32m     38\u001b[0m              }\n\u001b[1;32m     39\u001b[0m simulations_list\u001b[38;5;241m.\u001b[39mappend(dict_save)\n",
      "File \u001b[0;32m~/Mestrado/modelo_foguete/sensitiviy_analysis/../optm_algorithms/pso.py:145\u001b[0m, in \u001b[0;36mPSO.fit\u001b[0;34m(self)\u001b[0m\n\u001b[1;32m    143\u001b[0m \u001b[38;5;28;01mfor\u001b[39;00m epoch \u001b[38;5;129;01min\u001b[39;00m tqdm(\u001b[38;5;28mrange\u001b[39m(\u001b[38;5;28mself\u001b[39m\u001b[38;5;241m.\u001b[39mnum_epochs)):\n\u001b[1;32m    144\u001b[0m     \u001b[38;5;28mself\u001b[39m\u001b[38;5;241m.\u001b[39mcurr_epoch \u001b[38;5;241m=\u001b[39m epoch\n\u001b[0;32m--> 145\u001b[0m     \u001b[38;5;28;43mself\u001b[39;49m\u001b[38;5;241;43m.\u001b[39;49m\u001b[43mcalculate_fitness\u001b[49m\u001b[43m(\u001b[49m\u001b[43m)\u001b[49m\n\u001b[1;32m    146\u001b[0m     \u001b[38;5;28mself\u001b[39m\u001b[38;5;241m.\u001b[39mupdate_gbest()\n\u001b[1;32m    147\u001b[0m     \u001b[38;5;28mself\u001b[39m\u001b[38;5;241m.\u001b[39mupdate_pbest()\n",
      "File \u001b[0;32m~/Mestrado/modelo_foguete/sensitiviy_analysis/../optm_algorithms/pso.py:74\u001b[0m, in \u001b[0;36mPSO.calculate_fitness\u001b[0;34m(self)\u001b[0m\n\u001b[1;32m     73\u001b[0m \u001b[38;5;28;01mdef\u001b[39;00m \u001b[38;5;21mcalculate_fitness\u001b[39m(\u001b[38;5;28mself\u001b[39m):\n\u001b[0;32m---> 74\u001b[0m     \u001b[38;5;28mself\u001b[39m\u001b[38;5;241m.\u001b[39mf_x_i \u001b[38;5;241m=\u001b[39m \u001b[38;5;28;43mself\u001b[39;49m\u001b[38;5;241;43m.\u001b[39;49m\u001b[43mfitness_func\u001b[49m\u001b[43m(\u001b[49m\u001b[38;5;28;43mself\u001b[39;49m\u001b[38;5;241;43m.\u001b[39;49m\u001b[43mx_i\u001b[49m\u001b[43m)\u001b[49m\u001b[38;5;241m.\u001b[39mcopy()\n\u001b[1;32m     75\u001b[0m     \u001b[38;5;66;03m# Increment fitness calls counter\u001b[39;00m\n\u001b[1;32m     76\u001b[0m     \u001b[38;5;28mself\u001b[39m\u001b[38;5;241m.\u001b[39mfitness_calls_counter \u001b[38;5;241m+\u001b[39m\u001b[38;5;241m=\u001b[39m \u001b[38;5;241m1\u001b[39m\n",
      "File \u001b[0;32m~/Mestrado/modelo_foguete/sensitiviy_analysis/../fitness_function.py:157\u001b[0m, in \u001b[0;36mRocketFitness.calc_fitness\u001b[0;34m(self, params_matrix, values_ranges)\u001b[0m\n\u001b[1;32m    152\u001b[0m \u001b[38;5;66;03m# with concurrent.futures.ThreadPoolExecutor(max_workers=self.num_workers) as executor:\u001b[39;00m\n\u001b[1;32m    153\u001b[0m \u001b[38;5;66;03m#     futures = [executor.submit(fitness_func, x) for x in pop]\u001b[39;00m\n\u001b[1;32m    154\u001b[0m \u001b[38;5;66;03m#     results = np.array([future.result() for future in concurrent.futures.as_completed(futures)])\u001b[39;00m\n\u001b[1;32m    155\u001b[0m \u001b[38;5;66;03m#partial_fitness_function = partial(fitness_func, verbose=verbose, reg_model=reg_model)\u001b[39;00m\n\u001b[1;32m    156\u001b[0m pool \u001b[38;5;241m=\u001b[39m multiprocessing\u001b[38;5;241m.\u001b[39mPool(processes\u001b[38;5;241m=\u001b[39m\u001b[38;5;28mself\u001b[39m\u001b[38;5;241m.\u001b[39mnum_workers)\n\u001b[0;32m--> 157\u001b[0m results \u001b[38;5;241m=\u001b[39m \u001b[43mpool\u001b[49m\u001b[38;5;241;43m.\u001b[39;49m\u001b[43mmap\u001b[49m\u001b[43m(\u001b[49m\u001b[43mfitness_func\u001b[49m\u001b[43m,\u001b[49m\u001b[43m \u001b[49m\u001b[43mpop\u001b[49m\u001b[43m)\u001b[49m\n\u001b[1;32m    158\u001b[0m pool\u001b[38;5;241m.\u001b[39mclose()\n\u001b[1;32m    159\u001b[0m pool\u001b[38;5;241m.\u001b[39mjoin()\n",
      "File \u001b[0;32m/usr/lib/python3.10/multiprocessing/pool.py:367\u001b[0m, in \u001b[0;36mPool.map\u001b[0;34m(self, func, iterable, chunksize)\u001b[0m\n\u001b[1;32m    362\u001b[0m \u001b[38;5;28;01mdef\u001b[39;00m \u001b[38;5;21mmap\u001b[39m(\u001b[38;5;28mself\u001b[39m, func, iterable, chunksize\u001b[38;5;241m=\u001b[39m\u001b[38;5;28;01mNone\u001b[39;00m):\n\u001b[1;32m    363\u001b[0m \u001b[38;5;250m    \u001b[39m\u001b[38;5;124;03m'''\u001b[39;00m\n\u001b[1;32m    364\u001b[0m \u001b[38;5;124;03m    Apply `func` to each element in `iterable`, collecting the results\u001b[39;00m\n\u001b[1;32m    365\u001b[0m \u001b[38;5;124;03m    in a list that is returned.\u001b[39;00m\n\u001b[1;32m    366\u001b[0m \u001b[38;5;124;03m    '''\u001b[39;00m\n\u001b[0;32m--> 367\u001b[0m     \u001b[38;5;28;01mreturn\u001b[39;00m \u001b[38;5;28;43mself\u001b[39;49m\u001b[38;5;241;43m.\u001b[39;49m\u001b[43m_map_async\u001b[49m\u001b[43m(\u001b[49m\u001b[43mfunc\u001b[49m\u001b[43m,\u001b[49m\u001b[43m \u001b[49m\u001b[43miterable\u001b[49m\u001b[43m,\u001b[49m\u001b[43m \u001b[49m\u001b[43mmapstar\u001b[49m\u001b[43m,\u001b[49m\u001b[43m \u001b[49m\u001b[43mchunksize\u001b[49m\u001b[43m)\u001b[49m\u001b[38;5;241;43m.\u001b[39;49m\u001b[43mget\u001b[49m\u001b[43m(\u001b[49m\u001b[43m)\u001b[49m\n",
      "File \u001b[0;32m/usr/lib/python3.10/multiprocessing/pool.py:768\u001b[0m, in \u001b[0;36mApplyResult.get\u001b[0;34m(self, timeout)\u001b[0m\n\u001b[1;32m    767\u001b[0m \u001b[38;5;28;01mdef\u001b[39;00m \u001b[38;5;21mget\u001b[39m(\u001b[38;5;28mself\u001b[39m, timeout\u001b[38;5;241m=\u001b[39m\u001b[38;5;28;01mNone\u001b[39;00m):\n\u001b[0;32m--> 768\u001b[0m     \u001b[38;5;28;43mself\u001b[39;49m\u001b[38;5;241;43m.\u001b[39;49m\u001b[43mwait\u001b[49m\u001b[43m(\u001b[49m\u001b[43mtimeout\u001b[49m\u001b[43m)\u001b[49m\n\u001b[1;32m    769\u001b[0m     \u001b[38;5;28;01mif\u001b[39;00m \u001b[38;5;129;01mnot\u001b[39;00m \u001b[38;5;28mself\u001b[39m\u001b[38;5;241m.\u001b[39mready():\n\u001b[1;32m    770\u001b[0m         \u001b[38;5;28;01mraise\u001b[39;00m \u001b[38;5;167;01mTimeoutError\u001b[39;00m\n",
      "File \u001b[0;32m/usr/lib/python3.10/multiprocessing/pool.py:765\u001b[0m, in \u001b[0;36mApplyResult.wait\u001b[0;34m(self, timeout)\u001b[0m\n\u001b[1;32m    764\u001b[0m \u001b[38;5;28;01mdef\u001b[39;00m \u001b[38;5;21mwait\u001b[39m(\u001b[38;5;28mself\u001b[39m, timeout\u001b[38;5;241m=\u001b[39m\u001b[38;5;28;01mNone\u001b[39;00m):\n\u001b[0;32m--> 765\u001b[0m     \u001b[38;5;28;43mself\u001b[39;49m\u001b[38;5;241;43m.\u001b[39;49m\u001b[43m_event\u001b[49m\u001b[38;5;241;43m.\u001b[39;49m\u001b[43mwait\u001b[49m\u001b[43m(\u001b[49m\u001b[43mtimeout\u001b[49m\u001b[43m)\u001b[49m\n",
      "File \u001b[0;32m/usr/lib/python3.10/threading.py:607\u001b[0m, in \u001b[0;36mEvent.wait\u001b[0;34m(self, timeout)\u001b[0m\n\u001b[1;32m    605\u001b[0m signaled \u001b[38;5;241m=\u001b[39m \u001b[38;5;28mself\u001b[39m\u001b[38;5;241m.\u001b[39m_flag\n\u001b[1;32m    606\u001b[0m \u001b[38;5;28;01mif\u001b[39;00m \u001b[38;5;129;01mnot\u001b[39;00m signaled:\n\u001b[0;32m--> 607\u001b[0m     signaled \u001b[38;5;241m=\u001b[39m \u001b[38;5;28;43mself\u001b[39;49m\u001b[38;5;241;43m.\u001b[39;49m\u001b[43m_cond\u001b[49m\u001b[38;5;241;43m.\u001b[39;49m\u001b[43mwait\u001b[49m\u001b[43m(\u001b[49m\u001b[43mtimeout\u001b[49m\u001b[43m)\u001b[49m\n\u001b[1;32m    608\u001b[0m \u001b[38;5;28;01mreturn\u001b[39;00m signaled\n",
      "File \u001b[0;32m/usr/lib/python3.10/threading.py:320\u001b[0m, in \u001b[0;36mCondition.wait\u001b[0;34m(self, timeout)\u001b[0m\n\u001b[1;32m    318\u001b[0m \u001b[38;5;28;01mtry\u001b[39;00m:    \u001b[38;5;66;03m# restore state no matter what (e.g., KeyboardInterrupt)\u001b[39;00m\n\u001b[1;32m    319\u001b[0m     \u001b[38;5;28;01mif\u001b[39;00m timeout \u001b[38;5;129;01mis\u001b[39;00m \u001b[38;5;28;01mNone\u001b[39;00m:\n\u001b[0;32m--> 320\u001b[0m         \u001b[43mwaiter\u001b[49m\u001b[38;5;241;43m.\u001b[39;49m\u001b[43macquire\u001b[49m\u001b[43m(\u001b[49m\u001b[43m)\u001b[49m\n\u001b[1;32m    321\u001b[0m         gotit \u001b[38;5;241m=\u001b[39m \u001b[38;5;28;01mTrue\u001b[39;00m\n\u001b[1;32m    322\u001b[0m     \u001b[38;5;28;01melse\u001b[39;00m:\n",
      "\u001b[0;31mKeyboardInterrupt\u001b[0m: "
     ]
    }
   ],
   "source": [
    "\n",
    "def execute_sensitivity_analysis_pso(combinations, filename):\n",
    "    \n",
    "    #combinations = [[2.05, 2.05, 1],[2.05, 2.05, 1]]\n",
    "\n",
    "    simulations_list = []\n",
    "    for row in tqdm(combinations):\n",
    "        \n",
    "        global_factor = row[0]\n",
    "        local_factor = row[1]\n",
    "        v_max = row[2]\n",
    "        \n",
    "        pso_alg = PSO(\n",
    "            num_epochs=100,\n",
    "            pop_size=1000,\n",
    "            chrom_length=10,\n",
    "            n_best=2,\n",
    "            global_factor = global_factor,\n",
    "            local_factor = local_factor,\n",
    "            speed_factor = 1,\n",
    "            v_max=v_max,\n",
    "            value_ranges=bound_values,\n",
    "            fitness_func=fitness_func_class,\n",
    "            neighborhood_mode='self',\n",
    "            verbose=True,\n",
    "            eval_every=10,\n",
    "            )\n",
    "\n",
    "        best_solutions = pso_alg.fit()\n",
    "\n",
    "        dict_save = {'global_factor': global_factor,\n",
    "                     'local_factor': local_factor,\n",
    "                     'v_max': v_max,\n",
    "                     'fitness_calls': pso_alg.fitness_calls_list.tolist(),\n",
    "                     'best_ind_list': pso_alg.best_ind_list.tolist(),\n",
    "                     'avg_ind_list': pso_alg.avg_ind_list.tolist(),\n",
    "                     'best_solutions': best_solutions.tolist(),\n",
    "                     'total_time': pso_alg.total_exec_time,\n",
    "                     }\n",
    "        simulations_list.append(dict_save)\n",
    "        \n",
    "    with open(filename, 'w') as fout:\n",
    "        json.dump(simulations_list, fout)\n",
    "\n",
    "    return\n",
    "        \n",
    "\n",
    "execute_sensitivity_analysis_pso(combinations, 'simulations/pso_sensitivity.json')"
   ]
  },
  {
   "cell_type": "markdown",
   "metadata": {},
   "source": [
    "# Análise de Sensibilidade da Evol ução Diferencial\n",
    "\n",
    "Hiperparâmetros a serem otimizados:\n",
    "- mutation_rate\n",
    "- crossover_rate\n",
    "\n",
    "Condições:\n",
    "- mutation_rate e crossover_rate <=1\n"
   ]
  },
  {
   "cell_type": "code",
   "execution_count": 6,
   "metadata": {},
   "outputs": [
    {
     "name": "stdout",
     "output_type": "stream",
     "text": [
      "Mutation rate:  [0.1 0.2 0.3 0.4 0.5 0.6 0.7 0.8 0.9 1. ]\n",
      "Crossover rate:  [0.1 0.2 0.3 0.4 0.5 0.6 0.7 0.8 0.9 1. ]\n"
     ]
    }
   ],
   "source": [
    "mutation_rate = np.linspace(0.1, 1, 10)\n",
    "crossover_rate = np.linspace(0.1, 1,10)\n",
    "print(\"Mutation rate: \", mutation_rate)\n",
    "print(\"Crossover rate: \", crossover_rate)\n",
    "grid1, grid2 = np.meshgrid(mutation_rate, crossover_rate)\n",
    "combinations = np.vstack((grid1.ravel(), grid2.ravel())).T"
   ]
  },
  {
   "cell_type": "code",
   "execution_count": 8,
   "metadata": {},
   "outputs": [
    {
     "name": "stderr",
     "output_type": "stream",
     "text": [
      "  0%|          | 0/100 [00:00<?, ?it/s]"
     ]
    },
    {
     "name": "stdout",
     "output_type": "stream",
     "text": [
      "Epoch 0: Best: 0.5688369478323626, Average: 0.2834090829919377\n"
     ]
    },
    {
     "name": "stderr",
     "output_type": "stream",
     "text": [
      "  3%|▎         | 3/100 [00:06<03:36,  2.23s/it]\n",
      "  0%|          | 0/100 [00:06<?, ?it/s]\n"
     ]
    },
    {
     "ename": "KeyboardInterrupt",
     "evalue": "",
     "output_type": "error",
     "traceback": [
      "\u001b[0;31m---------------------------------------------------------------------------\u001b[0m",
      "\u001b[0;31mKeyboardInterrupt\u001b[0m                         Traceback (most recent call last)",
      "Cell \u001b[0;32mIn[8], line 41\u001b[0m\n\u001b[1;32m     36\u001b[0m         json\u001b[38;5;241m.\u001b[39mdump(simulations_list, fout)\n\u001b[1;32m     38\u001b[0m     \u001b[38;5;28;01mreturn\u001b[39;00m\n\u001b[0;32m---> 41\u001b[0m \u001b[43mexecute_sensitivity_analysis_de\u001b[49m\u001b[43m(\u001b[49m\u001b[43mcombinations\u001b[49m\u001b[43m,\u001b[49m\u001b[43m \u001b[49m\u001b[38;5;124;43m'\u001b[39;49m\u001b[38;5;124;43msimulations/de_sensitivity.json\u001b[39;49m\u001b[38;5;124;43m'\u001b[39;49m\u001b[43m)\u001b[49m\n",
      "Cell \u001b[0;32mIn[8], line 23\u001b[0m, in \u001b[0;36mexecute_sensitivity_analysis_de\u001b[0;34m(combinations, filename)\u001b[0m\n\u001b[1;32m      9\u001b[0m crossover_rate \u001b[38;5;241m=\u001b[39m row[\u001b[38;5;241m1\u001b[39m]\n\u001b[1;32m     11\u001b[0m de_alg \u001b[38;5;241m=\u001b[39m DifferentialEvolutionAlgorithm(\n\u001b[1;32m     12\u001b[0m                                     num_epochs\u001b[38;5;241m=\u001b[39m\u001b[38;5;241m100\u001b[39m,\n\u001b[1;32m     13\u001b[0m                                     pop_size\u001b[38;5;241m=\u001b[39m\u001b[38;5;241m1000\u001b[39m,\n\u001b[0;32m   (...)\u001b[0m\n\u001b[1;32m     20\u001b[0m                                     eval_every\u001b[38;5;241m=\u001b[39m\u001b[38;5;241m10\u001b[39m,\n\u001b[1;32m     21\u001b[0m                                     )\n\u001b[0;32m---> 23\u001b[0m best_solutions \u001b[38;5;241m=\u001b[39m \u001b[43mde_alg\u001b[49m\u001b[38;5;241;43m.\u001b[39;49m\u001b[43mfit\u001b[49m\u001b[43m(\u001b[49m\u001b[43m)\u001b[49m\n\u001b[1;32m     25\u001b[0m dict_save \u001b[38;5;241m=\u001b[39m {\u001b[38;5;124m'\u001b[39m\u001b[38;5;124mglobal_factor\u001b[39m\u001b[38;5;124m'\u001b[39m: mutation_rate,\n\u001b[1;32m     26\u001b[0m              \u001b[38;5;124m'\u001b[39m\u001b[38;5;124mlocal_factor\u001b[39m\u001b[38;5;124m'\u001b[39m: crossover_rate,\n\u001b[1;32m     27\u001b[0m              \u001b[38;5;124m'\u001b[39m\u001b[38;5;124mfitness_calls\u001b[39m\u001b[38;5;124m'\u001b[39m: de_alg\u001b[38;5;241m.\u001b[39mfitness_calls_list\u001b[38;5;241m.\u001b[39mtolist(),\n\u001b[0;32m   (...)\u001b[0m\n\u001b[1;32m     31\u001b[0m              \u001b[38;5;124m'\u001b[39m\u001b[38;5;124mtotal_time\u001b[39m\u001b[38;5;124m'\u001b[39m: de_alg\u001b[38;5;241m.\u001b[39mtotal_exec_time,\n\u001b[1;32m     32\u001b[0m              }\n\u001b[1;32m     33\u001b[0m simulations_list\u001b[38;5;241m.\u001b[39mappend(dict_save)\n",
      "File \u001b[0;32m~/Mestrado/modelo_foguete/sensitiviy_analysis/../optm_algorithms/differential_evolution.py:109\u001b[0m, in \u001b[0;36mDifferentialEvolutionAlgorithm.fit\u001b[0;34m(self)\u001b[0m\n\u001b[1;32m    107\u001b[0m     \u001b[38;5;28mself\u001b[39m\u001b[38;5;241m.\u001b[39mmutation()\n\u001b[1;32m    108\u001b[0m     \u001b[38;5;28mself\u001b[39m\u001b[38;5;241m.\u001b[39mcrossover()\n\u001b[0;32m--> 109\u001b[0m     \u001b[38;5;28;43mself\u001b[39;49m\u001b[38;5;241;43m.\u001b[39;49m\u001b[43mselection\u001b[49m\u001b[43m(\u001b[49m\u001b[43m)\u001b[49m\n\u001b[1;32m    110\u001b[0m     \u001b[38;5;28mself\u001b[39m\u001b[38;5;241m.\u001b[39mcallback()\n\u001b[1;32m    111\u001b[0m \u001b[38;5;28mself\u001b[39m\u001b[38;5;241m.\u001b[39mtotal_exec_time \u001b[38;5;241m=\u001b[39m time\u001b[38;5;241m.\u001b[39mtime() \u001b[38;5;241m-\u001b[39m start_time\n",
      "File \u001b[0;32m~/Mestrado/modelo_foguete/sensitiviy_analysis/../optm_algorithms/differential_evolution.py:79\u001b[0m, in \u001b[0;36mDifferentialEvolutionAlgorithm.selection\u001b[0;34m(self)\u001b[0m\n\u001b[1;32m     78\u001b[0m \u001b[38;5;28;01mdef\u001b[39;00m \u001b[38;5;21mselection\u001b[39m(\u001b[38;5;28mself\u001b[39m):\n\u001b[0;32m---> 79\u001b[0m     \u001b[38;5;28mself\u001b[39m\u001b[38;5;241m.\u001b[39mfitness_x_g \u001b[38;5;241m=\u001b[39m \u001b[38;5;28;43mself\u001b[39;49m\u001b[38;5;241;43m.\u001b[39;49m\u001b[43mfitness_func\u001b[49m\u001b[43m(\u001b[49m\u001b[38;5;28;43mself\u001b[39;49m\u001b[38;5;241;43m.\u001b[39;49m\u001b[43mx_g\u001b[49m\u001b[43m,\u001b[49m\u001b[43m \u001b[49m\u001b[38;5;28;43mself\u001b[39;49m\u001b[38;5;241;43m.\u001b[39;49m\u001b[43mvalue_ranges\u001b[49m\u001b[43m)\u001b[49m\n\u001b[1;32m     80\u001b[0m     \u001b[38;5;28mself\u001b[39m\u001b[38;5;241m.\u001b[39mfitness_u_g \u001b[38;5;241m=\u001b[39m \u001b[38;5;28mself\u001b[39m\u001b[38;5;241m.\u001b[39mfitness_func(\u001b[38;5;28mself\u001b[39m\u001b[38;5;241m.\u001b[39mu_g, \u001b[38;5;28mself\u001b[39m\u001b[38;5;241m.\u001b[39mvalue_ranges)\n\u001b[1;32m     81\u001b[0m     \u001b[38;5;28mself\u001b[39m\u001b[38;5;241m.\u001b[39mfitness_calls_counter \u001b[38;5;241m+\u001b[39m\u001b[38;5;241m=\u001b[39m \u001b[38;5;241m2\u001b[39m\n",
      "File \u001b[0;32m~/Mestrado/modelo_foguete/sensitiviy_analysis/../fitness_function.py:157\u001b[0m, in \u001b[0;36mRocketFitness.calc_fitness\u001b[0;34m(self, params_matrix, values_ranges)\u001b[0m\n\u001b[1;32m    152\u001b[0m \u001b[38;5;66;03m# with concurrent.futures.ThreadPoolExecutor(max_workers=self.num_workers) as executor:\u001b[39;00m\n\u001b[1;32m    153\u001b[0m \u001b[38;5;66;03m#     futures = [executor.submit(fitness_func, x) for x in pop]\u001b[39;00m\n\u001b[1;32m    154\u001b[0m \u001b[38;5;66;03m#     results = np.array([future.result() for future in concurrent.futures.as_completed(futures)])\u001b[39;00m\n\u001b[1;32m    155\u001b[0m \u001b[38;5;66;03m#partial_fitness_function = partial(fitness_func, verbose=verbose, reg_model=reg_model)\u001b[39;00m\n\u001b[1;32m    156\u001b[0m pool \u001b[38;5;241m=\u001b[39m multiprocessing\u001b[38;5;241m.\u001b[39mPool(processes\u001b[38;5;241m=\u001b[39m\u001b[38;5;28mself\u001b[39m\u001b[38;5;241m.\u001b[39mnum_workers)\n\u001b[0;32m--> 157\u001b[0m results \u001b[38;5;241m=\u001b[39m \u001b[43mpool\u001b[49m\u001b[38;5;241;43m.\u001b[39;49m\u001b[43mmap\u001b[49m\u001b[43m(\u001b[49m\u001b[43mfitness_func\u001b[49m\u001b[43m,\u001b[49m\u001b[43m \u001b[49m\u001b[43mpop\u001b[49m\u001b[43m)\u001b[49m\n\u001b[1;32m    158\u001b[0m pool\u001b[38;5;241m.\u001b[39mclose()\n\u001b[1;32m    159\u001b[0m pool\u001b[38;5;241m.\u001b[39mjoin()\n",
      "File \u001b[0;32m/usr/lib/python3.10/multiprocessing/pool.py:367\u001b[0m, in \u001b[0;36mPool.map\u001b[0;34m(self, func, iterable, chunksize)\u001b[0m\n\u001b[1;32m    362\u001b[0m \u001b[38;5;28;01mdef\u001b[39;00m \u001b[38;5;21mmap\u001b[39m(\u001b[38;5;28mself\u001b[39m, func, iterable, chunksize\u001b[38;5;241m=\u001b[39m\u001b[38;5;28;01mNone\u001b[39;00m):\n\u001b[1;32m    363\u001b[0m \u001b[38;5;250m    \u001b[39m\u001b[38;5;124;03m'''\u001b[39;00m\n\u001b[1;32m    364\u001b[0m \u001b[38;5;124;03m    Apply `func` to each element in `iterable`, collecting the results\u001b[39;00m\n\u001b[1;32m    365\u001b[0m \u001b[38;5;124;03m    in a list that is returned.\u001b[39;00m\n\u001b[1;32m    366\u001b[0m \u001b[38;5;124;03m    '''\u001b[39;00m\n\u001b[0;32m--> 367\u001b[0m     \u001b[38;5;28;01mreturn\u001b[39;00m \u001b[38;5;28;43mself\u001b[39;49m\u001b[38;5;241;43m.\u001b[39;49m\u001b[43m_map_async\u001b[49m\u001b[43m(\u001b[49m\u001b[43mfunc\u001b[49m\u001b[43m,\u001b[49m\u001b[43m \u001b[49m\u001b[43miterable\u001b[49m\u001b[43m,\u001b[49m\u001b[43m \u001b[49m\u001b[43mmapstar\u001b[49m\u001b[43m,\u001b[49m\u001b[43m \u001b[49m\u001b[43mchunksize\u001b[49m\u001b[43m)\u001b[49m\u001b[38;5;241;43m.\u001b[39;49m\u001b[43mget\u001b[49m\u001b[43m(\u001b[49m\u001b[43m)\u001b[49m\n",
      "File \u001b[0;32m/usr/lib/python3.10/multiprocessing/pool.py:768\u001b[0m, in \u001b[0;36mApplyResult.get\u001b[0;34m(self, timeout)\u001b[0m\n\u001b[1;32m    767\u001b[0m \u001b[38;5;28;01mdef\u001b[39;00m \u001b[38;5;21mget\u001b[39m(\u001b[38;5;28mself\u001b[39m, timeout\u001b[38;5;241m=\u001b[39m\u001b[38;5;28;01mNone\u001b[39;00m):\n\u001b[0;32m--> 768\u001b[0m     \u001b[38;5;28;43mself\u001b[39;49m\u001b[38;5;241;43m.\u001b[39;49m\u001b[43mwait\u001b[49m\u001b[43m(\u001b[49m\u001b[43mtimeout\u001b[49m\u001b[43m)\u001b[49m\n\u001b[1;32m    769\u001b[0m     \u001b[38;5;28;01mif\u001b[39;00m \u001b[38;5;129;01mnot\u001b[39;00m \u001b[38;5;28mself\u001b[39m\u001b[38;5;241m.\u001b[39mready():\n\u001b[1;32m    770\u001b[0m         \u001b[38;5;28;01mraise\u001b[39;00m \u001b[38;5;167;01mTimeoutError\u001b[39;00m\n",
      "File \u001b[0;32m/usr/lib/python3.10/multiprocessing/pool.py:765\u001b[0m, in \u001b[0;36mApplyResult.wait\u001b[0;34m(self, timeout)\u001b[0m\n\u001b[1;32m    764\u001b[0m \u001b[38;5;28;01mdef\u001b[39;00m \u001b[38;5;21mwait\u001b[39m(\u001b[38;5;28mself\u001b[39m, timeout\u001b[38;5;241m=\u001b[39m\u001b[38;5;28;01mNone\u001b[39;00m):\n\u001b[0;32m--> 765\u001b[0m     \u001b[38;5;28;43mself\u001b[39;49m\u001b[38;5;241;43m.\u001b[39;49m\u001b[43m_event\u001b[49m\u001b[38;5;241;43m.\u001b[39;49m\u001b[43mwait\u001b[49m\u001b[43m(\u001b[49m\u001b[43mtimeout\u001b[49m\u001b[43m)\u001b[49m\n",
      "File \u001b[0;32m/usr/lib/python3.10/threading.py:607\u001b[0m, in \u001b[0;36mEvent.wait\u001b[0;34m(self, timeout)\u001b[0m\n\u001b[1;32m    605\u001b[0m signaled \u001b[38;5;241m=\u001b[39m \u001b[38;5;28mself\u001b[39m\u001b[38;5;241m.\u001b[39m_flag\n\u001b[1;32m    606\u001b[0m \u001b[38;5;28;01mif\u001b[39;00m \u001b[38;5;129;01mnot\u001b[39;00m signaled:\n\u001b[0;32m--> 607\u001b[0m     signaled \u001b[38;5;241m=\u001b[39m \u001b[38;5;28;43mself\u001b[39;49m\u001b[38;5;241;43m.\u001b[39;49m\u001b[43m_cond\u001b[49m\u001b[38;5;241;43m.\u001b[39;49m\u001b[43mwait\u001b[49m\u001b[43m(\u001b[49m\u001b[43mtimeout\u001b[49m\u001b[43m)\u001b[49m\n\u001b[1;32m    608\u001b[0m \u001b[38;5;28;01mreturn\u001b[39;00m signaled\n",
      "File \u001b[0;32m/usr/lib/python3.10/threading.py:320\u001b[0m, in \u001b[0;36mCondition.wait\u001b[0;34m(self, timeout)\u001b[0m\n\u001b[1;32m    318\u001b[0m \u001b[38;5;28;01mtry\u001b[39;00m:    \u001b[38;5;66;03m# restore state no matter what (e.g., KeyboardInterrupt)\u001b[39;00m\n\u001b[1;32m    319\u001b[0m     \u001b[38;5;28;01mif\u001b[39;00m timeout \u001b[38;5;129;01mis\u001b[39;00m \u001b[38;5;28;01mNone\u001b[39;00m:\n\u001b[0;32m--> 320\u001b[0m         \u001b[43mwaiter\u001b[49m\u001b[38;5;241;43m.\u001b[39;49m\u001b[43macquire\u001b[49m\u001b[43m(\u001b[49m\u001b[43m)\u001b[49m\n\u001b[1;32m    321\u001b[0m         gotit \u001b[38;5;241m=\u001b[39m \u001b[38;5;28;01mTrue\u001b[39;00m\n\u001b[1;32m    322\u001b[0m     \u001b[38;5;28;01melse\u001b[39;00m:\n",
      "\u001b[0;31mKeyboardInterrupt\u001b[0m: "
     ]
    }
   ],
   "source": [
    "\n",
    "def execute_sensitivity_analysis_de(combinations, filename):\n",
    "    \n",
    "    #combinations = [[0.5, 0,5]]\n",
    "\n",
    "    simulations_list = []\n",
    "    for row in tqdm(combinations):\n",
    "        \n",
    "        mutation_rate = row[0]\n",
    "        crossover_rate = row[1]\n",
    "        \n",
    "        de_alg = DifferentialEvolutionAlgorithm(\n",
    "                                            num_epochs=100,\n",
    "                                            pop_size=1000,\n",
    "                                            chrom_length=10,\n",
    "                                            value_ranges=bound_values,\n",
    "                                            mutation_rate=mutation_rate,\n",
    "                                            crossover_rate=crossover_rate,\n",
    "                                            fitness_func=fitness_func_class,\n",
    "                                            verbose=True,\n",
    "                                            eval_every=10,\n",
    "                                            )\n",
    "\n",
    "        best_solutions = de_alg.fit()\n",
    "\n",
    "        dict_save = {'global_factor': mutation_rate,\n",
    "                     'local_factor': crossover_rate,\n",
    "                     'fitness_calls': de_alg.fitness_calls_list.tolist(),\n",
    "                     'best_ind_list': de_alg.best_ind_list.tolist(),\n",
    "                     'avg_ind_list': de_alg.avg_ind_list.tolist(),\n",
    "                     'best_solutions': best_solutions.tolist(),\n",
    "                     'total_time': de_alg.total_exec_time,\n",
    "                     }\n",
    "        simulations_list.append(dict_save)\n",
    "        \n",
    "    with open(filename, 'w') as fout:\n",
    "        json.dump(simulations_list, fout)\n",
    "\n",
    "    return\n",
    "        \n",
    "\n",
    "execute_sensitivity_analysis_de(combinations, 'simulations/de_sensitivity.json')"
   ]
  }
 ],
 "metadata": {
  "kernelspec": {
   "display_name": "deeplearning",
   "language": "python",
   "name": "python3"
  },
  "language_info": {
   "codemirror_mode": {
    "name": "ipython",
    "version": 3
   },
   "file_extension": ".py",
   "mimetype": "text/x-python",
   "name": "python",
   "nbconvert_exporter": "python",
   "pygments_lexer": "ipython3",
   "version": "3.10.12"
  },
  "orig_nbformat": 4
 },
 "nbformat": 4,
 "nbformat_minor": 2
}
